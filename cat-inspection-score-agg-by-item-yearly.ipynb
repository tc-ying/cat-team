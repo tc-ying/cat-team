{
 "cells": [
  {
   "cell_type": "code",
   "execution_count": null,
   "metadata": {},
   "outputs": [],
   "source": [
    "\"\"\" Aggregate CAT Inspection Scores at granularity 'Item' for the year \"\"\"\n",
    "\n",
    "import numpy as np\n",
    "import pandas as pd\n",
    "import math\n",
    "import sqlalchemy as sa\n",
    "from mysql.connector import Error\n",
    "import login\n",
    "\n",
    "try:\n",
    "    engine = sa.create_engine('mysql+mysqlconnector://{}:{}@{}/flbwmass'.format(login.username, login.password, login.mysql_host), isolation_level='READ UNCOMMITTED')\n",
    "    df = pd.read_sql(\"\"\"\n",
    "    SELECT \n",
    "        LEFT(period, 4) AS period, \n",
    "        c.massis_type_description, \n",
    "        'CAT Team' AS team, \n",
    "        wo_type, \n",
    "        item, \n",
    "        AVG(CAST(item_score AS DECIMAL(17,14))) AS item_score \n",
    "    FROM (\n",
    "        SELECT \n",
    "            m.period, \n",
    "            m.contract, \n",
    "            m.wo_type, \n",
    "            report_serial_num, \n",
    "            RIGHT(LEFT(item_description, 2), 1) AS `item`, \n",
    "            COALESCE(subaspect, IF(aspect = 'SM', 'GSM', aspect)) AS `aspect`, \n",
    "            CASE grade WHEN 'A' THEN 100.0 WHEN 'B' THEN 60.0 WHEN 'C' THEN 40.0 WHEN 'D' THEN 20.0 END AS item_score \n",
    "        FROM flbwmass.cat_mass_inspection_items \n",
    "        LEFT JOIN flbwmass.cat_mass_inspections AS m USING (report_serial_num) \n",
    "        WHERE period >= '2016' and grade <> 'N' AND m.status NOT IN ('Initial Inspection') \n",
    "        ORDER BY m.period , m.contract , report_serial_num , `item` , `aspect` , `grade`) AS s \n",
    "    LEFT JOIN master.contracts AS c USING (contract) \n",
    "    GROUP BY report_serial_num, item;\n",
    "    \"\"\", con=engine)\n",
    "except Error as e:\n",
    "    print(e)\n",
    "finally:\n",
    "    engine.dispose()"
   ]
  },
  {
   "cell_type": "code",
   "execution_count": null,
   "metadata": {},
   "outputs": [],
   "source": [
    "def a_uqs(series):\n",
    "    count = series.count()\n",
    "    n = math.ceil(count / 4)\n",
    "    return series.nlargest(n)[-1:]\n",
    "\n",
    "def a_lqs(series):\n",
    "    count = series.count()\n",
    "    n = count - math.floor(count / 4) + 1\n",
    "    return series.nlargest(n)[-1:]\n",
    "\n",
    "cat_items = df\n",
    "statistic = {'item_score': [np.max, a_uqs, np.median, np.mean, a_lqs, np.min]}\n",
    "\n",
    "aggregated = cat_items.groupby(['period', 'massis_type_description', 'team', 'wo_type', 'item']).agg(statistic)\n",
    "aggregated.columns.set_levels(['max', 'uqs', 'median', 'mean', 'lqs', 'min'], level=1, inplace=True)\n",
    "aggregated.columns.rename(names=['item_score', 'statistic'], inplace=True)\n",
    "result = aggregated.stack(1).reset_index()"
   ]
  }
 ],
 "metadata": {
  "kernelspec": {
   "display_name": "Python 3",
   "language": "python",
   "name": "python3"
  },
  "language_info": {
   "codemirror_mode": {
    "name": "ipython",
    "version": 3
   },
   "file_extension": ".py",
   "mimetype": "text/x-python",
   "name": "python",
   "nbconvert_exporter": "python",
   "pygments_lexer": "ipython3",
   "version": "3.6.2"
  }
 },
 "nbformat": 4,
 "nbformat_minor": 1
}
