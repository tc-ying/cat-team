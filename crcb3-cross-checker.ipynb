{
 "cells": [
  {
   "cell_type": "code",
   "execution_count": 1,
   "metadata": {
    "collapsed": true
   },
   "outputs": [],
   "source": [
    "\"\"\" Generates in-house CRC/BM B3 Report for cross-checking with system's Report \"\"\"\n",
    "\n",
    "import numpy as np\n",
    "import pandas as pd\n",
    "import sqlalchemy as sa\n",
    "import mysql.connector\n",
    "import login"
   ]
  },
  {
   "cell_type": "code",
   "execution_count": 2,
   "metadata": {
    "collapsed": true
   },
   "outputs": [],
   "source": [
    "qry = \"select m.massis_type_description, m.display_contractor_description, current_expired, contract, \\\n",
    "right(e.sor_version,3) as edition, start_date, m.anticipated_end_date, period, contract_score \\\n",
    "from ia_contract_summaries \\\n",
    "left join mass_contracts as m using (contract) \\\n",
    "left join erp.contracts as e using (contract) \\\n",
    "where current_expired is not null\"\n",
    "\n",
    "try:\n",
    "    engine = sa.create_engine('mysql+mysqlconnector://{}:{}@{}/flbwmass'.format(login.username, login.password, login.mysql_host))\n",
    "    rs = pd.read_sql(qry, con=engine, parse_dates=['start_date', 'anticipated_end_date'])\n",
    "except mysql.connector.Error as e:\n",
    "    print(e)\n",
    "finally:\n",
    "    engine.dispose()"
   ]
  },
  {
   "cell_type": "code",
   "execution_count": 3,
   "metadata": {
    "collapsed": true
   },
   "outputs": [],
   "source": [
    "def increment_period(period, quarter_step):\n",
    "    start_year = int(period[:4])\n",
    "    start_quarter = int(period[-1:])\n",
    "    stacked_quarter = start_quarter + quarter_step\n",
    "    year_step = (stacked_quarter - 1) // 4\n",
    "    remainder_quarter = (stacked_quarter) % 4 if (stacked_quarter) % 4 != 0 else 4\n",
    "    return str(start_year + year_step) + 'Q' + str(remainder_quarter)\n",
    "\n",
    "def grant_probation(start_period=None, edition='39'):\n",
    "    return increment_period(start_period, 4) if edition >= '70' else increment_period(start_period, 5)\n",
    "\n",
    "def grant_probation_70(start_period=None):\n",
    "    return increment_period(start_period, 4)"
   ]
  },
  {
   "cell_type": "code",
   "execution_count": 4,
   "metadata": {
    "collapsed": true
   },
   "outputs": [],
   "source": [
    "reporting_period = '2017Q3'\n",
    "reporting_cutoff = increment_period(reporting_period, -13)\n",
    "\n",
    "df = rs[(rs['massis_type_description'] == 'DTC') & (rs['current_expired'] == 'Current Contract') & (rs['period'] <= reporting_period)].copy()\n",
    "df['last_current_period'] = df.groupby('contract')['period'].transform(lambda x: x.max())\n",
    "df.loc[df['edition'].str.startswith('0'), 'edition'] = df['edition'].str[1:]\n",
    "df['start_date'] = df['start_date'].dt.strftime('%#d-%b-%Y')\n",
    "df['anticipated_end_date'] = df['anticipated_end_date'].dt.strftime('%#d-%b-%Y')\n",
    "df = df[df['last_current_period'] >= reporting_cutoff]\n",
    "df.drop(['massis_type_description', 'current_expired','last_current_period'], axis=1, inplace=True)\n",
    "df.set_index(['display_contractor_description','contract','edition','start_date','anticipated_end_date','period'], inplace=True)"
   ]
  },
  {
   "cell_type": "code",
   "execution_count": 5,
   "metadata": {
    "collapsed": true,
    "scrolled": false
   },
   "outputs": [],
   "source": [
    "pv = df.unstack()\n",
    "idx = pd.IndexSlice\n",
    "\n",
    "pv['probation_start'] = list(zip(*pv.notnull().idxmax(axis=1)))[1]\n",
    "pv['probation_end'] = np.where(pv.index.get_level_values('edition') >= '70', \\\n",
    "                                pv['probation_start'].apply(lambda t: grant_probation_70(t)), pv['probation_start'].apply(lambda t: grant_probation(t)))\n",
    "pv['score_gte_60'] = np.where(pv['probation_end'] > reporting_period, None, \\\n",
    "                              np.where(np.min(pv, axis=1) >= 60, 'Yes', 'No'))\n",
    "avg = []\n",
    "for i, (start, e) in enumerate(zip(pv['probation_start'], pv['probation_end'])):\n",
    "    end = reporting_period if e > reporting_period else e\n",
    "    avg.append(np.mean(pv.loc[:, idx['contract_score', start:end]].values, axis=1)[i])\n",
    "pv['average'] = np.where(pv['probation_end'] > reporting_period, None, avg)\n",
    "pv['eligible'] = np.where(pv['probation_end'] > reporting_period, None, \\\n",
    "                          np.where((pv['score_gte_60'] == 'No') | (pv['average'] < 65), 'Not Eligible', 'Eligible'))\n",
    "pv.iloc[:, pv.columns.get_level_values(0) == 'average'] = pv.iloc[:, pv.columns.get_level_values(0) == 'average'].astype('float')\n",
    "\n",
    "pv.insert(0, 'item', np.arange(len(pv))+1)\n",
    "pv.set_index('item', append=True, inplace=True)\n",
    "pv = pv.reorder_levels(['display_contractor_description', 'item', 'contract', 'edition', 'start_date', 'anticipated_end_date'])\n",
    "pv.index.names = ['Contractor Name', 'Item', 'Contract No.', 'DTC Edition', 'Commencement', 'Completion']\n",
    "pv.columns.names=[None, None]\n",
    "\n",
    "probation_mask = pv.copy()\n",
    "pv.drop(['probation_start', 'probation_end'], axis=1, level=0, inplace=True)\n",
    "pv.columns.set_levels(['Quaterly MASS Score and Performance','Probation Start', 'Probation End','Score >= 60','Average Score','Eligible'], level=0, inplace=True)\n",
    "\n",
    "pv = pv.round(2)\n",
    "pv.iloc[:, pv.columns.get_level_values(0) == 'average'] = \\\n",
    "pv.iloc[:, pv.columns.get_level_values(0) == 'average'].apply(lambda x: pd.Series.round(x, 2))\n",
    "\n",
    "pv = pv.iloc[:, -13:]"
   ]
  },
  {
   "cell_type": "code",
   "execution_count": 6,
   "metadata": {},
   "outputs": [
    {
     "name": "stderr",
     "output_type": "stream",
     "text": [
      "D:\\Continuum\\Miniconda3\\lib\\site-packages\\ipykernel_launcher.py:2: DeprecationWarning: \n",
      ".ix is deprecated. Please use\n",
      ".loc for label based indexing or\n",
      ".iloc for positional indexing\n",
      "\n",
      "See the documentation here:\n",
      "http://pandas.pydata.org/pandas-docs/stable/indexing.html#ix-indexer-is-deprecated\n",
      "  \n"
     ]
    }
   ],
   "source": [
    "# probation_mask['contract_score'] = False\n",
    "probation_mask.ix[probation_mask.iloc[:, -6].isnull(), :-5] = 'gray'\n",
    "probation_mask.ix[probation_mask.iloc[:, -6].isnull(), :-5] = False\n",
    "for i, (start, e) in enumerate(zip(probation_mask['probation_start'], probation_mask['probation_end'])):\n",
    "    end = reporting_period if e > reporting_period else e\n",
    "    ridx = probation_mask.iloc[i].name\n",
    "    probation_mask.loc[idx[ridx[0], ridx[1], ridx[2], ridx[3], ridx[4]], idx['contract_score', start:end]] = 'yellow'\n",
    "\n",
    "probation_mask.drop(['Probation Start', 'Probation End'], axis=1, level=0, inplace=True)\n",
    "probation_mask.columns.set_levels(['Quaterly MASS Score and Performance','Probation Start', 'Probation End','Score >= 60','Average Score','Eligible'], level=0, inplace=True)"
   ]
  },
  {
   "cell_type": "code",
   "execution_count": 7,
   "metadata": {
    "collapsed": true,
    "scrolled": true
   },
   "outputs": [],
   "source": [
    "def color_average(val):\n",
    "    return np.where(pd.isnull(val), 'color: black', np.where(val.astype('float') >= 65, 'color: #3567B3', 'color: red'))\n",
    "\n",
    "def color_score(val):\n",
    "    return np.where(pd.isnull(val), 'color: black', np.where(val.astype('float') >= 60, 'color: #3567B3', 'color: red'))\n",
    "\n",
    "# def color_expired(val):\n",
    "#     return ['background-color: #e6e6e6' if pd.isnull(val[9]) else 'background-color: white']\n",
    "\n",
    "def legend(val):\n",
    "    return pd.DataFrame(np.where(probation_mask.iloc[:, -15:-2] == 'yellow', \\\n",
    "                                 'background-color: #FFE800', np.where(probation_mask.iloc[:, -15:-2] == 'gray', \n",
    "                                                                       'background-color: #DCDCDC', 'background-color: white')), index=val.index, columns=val.columns)\n",
    "\n",
    "s = pv.style.apply(color_average, subset='Average Score')\n",
    "s.apply(color_score, subset='Quaterly MASS Score and Performance')\n",
    "# s.apply(color_expired, subset=['Quaterly MASS Score and Performance', 'Score >= 60', 'Average Score', 'Eligible'], axis=1)\n",
    "s.apply(legend, axis=None)\n",
    "# s.to_excel(reporting_period + '-B3-Verification.xlsx', engine='openpyxl')\n",
    "with open('./output/' + reporting_period + '-B3-Data-Checking.html', 'w') as html:\n",
    "    html.write(s.set_table_attributes('border=\"1\" cellpadding=\"4\" style=\"margin: 10px auto; border-collapse: collapse; font-family: Arial; font-size: 95%\"')\\\n",
    "               .render().replace('nan','').replace('None',''))"
   ]
  }
 ],
 "metadata": {
  "kernelspec": {
   "display_name": "Python 3",
   "language": "python",
   "name": "python3"
  },
  "language_info": {
   "codemirror_mode": {
    "name": "ipython",
    "version": 3
   },
   "file_extension": ".py",
   "mimetype": "text/x-python",
   "name": "python",
   "nbconvert_exporter": "python",
   "pygments_lexer": "ipython3",
   "version": "3.6.2"
  }
 },
 "nbformat": 4,
 "nbformat_minor": 2
}
