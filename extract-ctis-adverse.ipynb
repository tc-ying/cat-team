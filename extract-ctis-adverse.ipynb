{
 "cells": [
  {
   "cell_type": "code",
   "execution_count": 3,
   "metadata": {},
   "outputs": [],
   "source": [
    "\"\"\" Scrape CTIS for Adverse status of CRC contracts \"\"\"\n",
    "\n",
    "import requests as req\n",
    "import bs4 as bs\n",
    "import csv\n",
    "import login\n",
    "\n",
    "period = '20171'\n",
    "trigger = 'N'\n",
    "\n",
    "session = req.session()\n",
    "session.headers.update({\"User-Agent\": \"Mozilla/5.0 (Windows NT 6.1; WOW64) AppleWebKit/537.36 (KHTML, like Gecko) Chrome/55.0.2883.87 Safari/537.36\"})\n",
    "\n",
    "url = 'http://bvca07416/index.php'\n",
    "form = {'action': 'check', 'userid': login.ctis_username, 'pwd': login.ctis_password}\n",
    "response = session.post(url, data=form, verify=False)\n",
    "\n",
    "url = 'http://bvca07416/ctis_mass_crc_entry.php'\n",
    "form={'sel_period': period, 'trigger': trigger}\n",
    "response = session.post(url, data=form, verify=False)\n",
    "\n",
    "with open('./output/' + 'ctis_mass_crc_entry_' + period + '_' + 'all.html' if trigger == 'N' else './' + 'ctis_mass_crc_entry_' + period + '_' + 'triggered.html', 'wb') as f:\n",
    "    f.write(response.content)\n",
    "    \n",
    "soup = bs.BeautifulSoup(response.content, 'lxml')\n",
    "table = soup.find_all('table')[2]\n",
    "rows = table.find_all('tr')[2:-2]\n",
    "\n",
    "header = ['contract', 'contract_title', 'contractor', 'contract_remark', 'cm_recommendation', 'crc_rating', 'warning_letter', 'interview', 'removed_from_qmc', 'wef', 'chairperson_recommendation', 'other_remark', 'follow_up_action']\n",
    "\n",
    "with open('./output/' + 'ctis_mass_crc_entry_' + period + '_' + 'all.csv' if trigger == 'N' else './' + 'ctis_mass_crc_entry_' + period + '_' + 'triggered.csv', \"w\", newline='') as csv_file:\n",
    "    writer = csv.writer(csv_file, delimiter=',', quotechar='\"', quoting=csv.QUOTE_ALL)\n",
    "    writer.writerow(header)\n",
    "    for row in rows:\n",
    "        cols = row.find_all('td')\n",
    "        tr = []\n",
    "        tr.extend([cols[0].text.strip(), cols[1].text, cols[2].text, cols[3].textarea.text])\n",
    "        tr.extend([cols[4].find_all('option', {'selected': ['']})[0].text])\n",
    "        tr.extend([cols[5].find_all('option', {'selected': ['']})[0].text])\n",
    "        tr.extend(['N' if len(cols[6].find_all('checked')) == 0 else 'Y'])\n",
    "        tr.extend(['N' if len(cols[7].find_all('checked')) == 0 else 'Y'])\n",
    "        tr.extend(['N' if len(cols[8].find_all('checked')) == 0 else 'Y'])\n",
    "        tr.extend([cols[9].input['value']])\n",
    "        tr.extend([cols[10].find_all('option', {'selected': ['']})[0].text])\n",
    "        tr.extend([cols[11].textarea.text])\n",
    "        tr.extend([cols[12].textarea.text])\n",
    "        writer.writerow(tr)\n"
   ]
  }
 ],
 "metadata": {
  "kernelspec": {
   "display_name": "Python 3",
   "language": "python",
   "name": "python3"
  },
  "language_info": {
   "codemirror_mode": {
    "name": "ipython",
    "version": 3
   },
   "file_extension": ".py",
   "mimetype": "text/x-python",
   "name": "python",
   "nbconvert_exporter": "python",
   "pygments_lexer": "ipython3",
   "version": "3.6.2"
  }
 },
 "nbformat": 4,
 "nbformat_minor": 2
}
