{
 "cells": [
  {
   "cell_type": "code",
   "execution_count": 1,
   "metadata": {
    "collapsed": true,
    "scrolled": false
   },
   "outputs": [],
   "source": [
    "\"\"\" Generate late VFRWO tables in text for MASS reminder to DMO Project Officers \"\"\"\n",
    "\n",
    "import numpy as np\n",
    "import pandas as pd\n",
    "from tabulate import tabulate\n",
    "\n",
    "df = pd.read_excel(\"//bvba16841/CAT DataMart/Monitoring Board/Critical Stage VFR MASS Inspection Situation.xlsm\", sheetname='Certified VFR WOs', skiprows=2)\n",
    "df = df[df['inspection_count'] == 0]\n",
    "df['dmo'] = df['project_officer'].replace(regex=True,to_replace=r'.*/',value=r'').replace(regex=True,to_replace=r'-[A-Z]*[0-9]+',value=r'')\n",
    "df['dmo'] = np.where(df.dmo.str.startswith('J'), df['dmo'], df.dmo.str.replace(r'[0-9]+',r''))\n",
    "df = df[['external_wo','contract','estate','block','floor','room','project_officer','certified_end_date','dmo']]\n",
    "df.columns = ['W.O. Num.','Contract','Estate','Block','Floor','Room','P.O.','Certified Date','DMO']"
   ]
  },
  {
   "cell_type": "code",
   "execution_count": 2,
   "metadata": {},
   "outputs": [
    {
     "name": "stdout",
     "output_type": "stream",
     "text": [
      "//bvba09244/CAT DataMart/Monitoring Board/VFR MASS Reminders D:/CAT/Registration & Random Inspection/Critical Stage VFR\n",
      "/d/CAT/Registration & Random Inspection/Critical Stage VFR\n"
     ]
    },
    {
     "name": "stderr",
     "output_type": "stream",
     "text": [
      "rm: cannot remove '*.txt': No such file or directory\n"
     ]
    }
   ],
   "source": [
    "%%bash\n",
    "pushd \"//bvba16841/CAT DataMart/Monitoring Board/VFR MASS Reminders/\"\n",
    "rm *.txt\n",
    "popd"
   ]
  },
  {
   "cell_type": "code",
   "execution_count": 3,
   "metadata": {
    "collapsed": true
   },
   "outputs": [],
   "source": [
    "gp = df.groupby(\"DMO\")\n",
    "for g in gp.groups:\n",
    "    fname = \"//bvba16841/CAT DataMart/Monitoring Board/VFR MASS Reminders/\" + str(g).replace('/','_') + \".txt\"\n",
    "    with open(fname, 'wb') as f:\n",
    "        f.write(tabulate(gp.get_group(g)[['W.O. Num.','Contract','Estate','Block','Floor','Room','P.O.','Certified Date']], headers='keys',showindex=False,tablefmt=\"simple\").replace(' 00:00:00','').replace('\\n', '\\r\\n').encode('utf8'))"
   ]
  }
 ],
 "metadata": {
  "kernelspec": {
   "display_name": "Python 3",
   "language": "python",
   "name": "python3"
  },
  "language_info": {
   "codemirror_mode": {
    "name": "ipython",
    "version": 3
   },
   "file_extension": ".py",
   "mimetype": "text/x-python",
   "name": "python",
   "nbconvert_exporter": "python",
   "pygments_lexer": "ipython3",
   "version": "3.6.5"
  }
 },
 "nbformat": 4,
 "nbformat_minor": 2
}
